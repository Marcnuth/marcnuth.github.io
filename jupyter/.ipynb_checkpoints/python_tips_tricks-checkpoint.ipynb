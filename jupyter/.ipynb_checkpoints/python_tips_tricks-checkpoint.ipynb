{
 "cells": [
  {
   "cell_type": "markdown",
   "metadata": {},
   "source": [
    "# Python Tips & Tricks\n",
    "\n"
   ]
  },
  {
   "cell_type": "markdown",
   "metadata": {},
   "source": [
    "## 读写\n",
    "\n",
    "- for line in opened_file:  逐行读取，读一行加载一行\n",
    "- for line in opened_file.readlines(): 逐行读取，将所有内容加载到内存\n",
    "- for row in cursor: 逐row读取，读一行加载一行\n",
    "- for row in cursor.fetchall() : 逐row读取，将所有内容加载到内存\n",
    "\n",
    "\n",
    "\n",
    "> 注意:\n",
    "> 单次循环中，计算任务所花的时间 >> 单次IO读取的时间时， for line in file/cursor 更好\n",
    "> 单次循环中，计算任务所花的时间 << 单次IO读取的时间时， for line in file.readlines()/cursor.fetchall() 更好"
   ]
  },
  {
   "cell_type": "code",
   "execution_count": null,
   "metadata": {
    "collapsed": true
   },
   "outputs": [],
   "source": []
  }
 ],
 "metadata": {
  "anaconda-cloud": {},
  "kernelspec": {
   "display_name": "Python [default]",
   "language": "python",
   "name": "python3"
  },
  "language_info": {
   "codemirror_mode": {
    "name": "ipython",
    "version": 3
   },
   "file_extension": ".py",
   "mimetype": "text/x-python",
   "name": "python",
   "nbconvert_exporter": "python",
   "pygments_lexer": "ipython3",
   "version": "3.5.2"
  }
 },
 "nbformat": 4,
 "nbformat_minor": 1
}
